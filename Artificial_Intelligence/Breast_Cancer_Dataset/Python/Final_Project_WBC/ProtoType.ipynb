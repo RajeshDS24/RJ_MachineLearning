{
 "cells": [
  {
   "cell_type": "code",
   "execution_count": null,
   "metadata": {},
   "outputs": [],
   "source": [
    "# https://www.kaggle.com/sararht13/breast-cancer-analysis-and-diagnosis"
   ]
  },
  {
   "cell_type": "code",
   "execution_count": 2,
   "metadata": {},
   "outputs": [],
   "source": [
    "# installing required python libraries\n",
    "import pandas as pd\n",
    "import numpy as np\n",
    "import matplotlib as mp"
   ]
  },
  {
   "cell_type": "code",
   "execution_count": 18,
   "metadata": {},
   "outputs": [
    {
     "data": {
      "text/plain": [
       "(569, 33)"
      ]
     },
     "execution_count": 18,
     "metadata": {},
     "output_type": "execute_result"
    }
   ],
   "source": [
    "# check the dimensions\n",
    "cancer = pd.read_csv('E:/ICT619 - AI/ASS and Proj/Assignment 1/Harman/data.csv')\n",
    "cancer.shape"
   ]
  },
  {
   "cell_type": "code",
   "execution_count": 19,
   "metadata": {
    "collapsed": true
   },
   "outputs": [
    {
     "name": "stdout",
     "output_type": "stream",
     "text": [
      "           id diagnosis  radius_mean  texture_mean  perimeter_mean  area_mean  \\\n",
      "0      842302         M       17.990         10.38          122.80     1001.0   \n",
      "1      842517         M       20.570         17.77          132.90     1326.0   \n",
      "2    84300903         M       19.690         21.25          130.00     1203.0   \n",
      "3    84348301         M       11.420         20.38           77.58      386.1   \n",
      "4    84358402         M       20.290         14.34          135.10     1297.0   \n",
      "5      843786         M       12.450         15.70           82.57      477.1   \n",
      "6      844359         M       18.250         19.98          119.60     1040.0   \n",
      "7    84458202         M       13.710         20.83           90.20      577.9   \n",
      "8      844981         M       13.000         21.82           87.50      519.8   \n",
      "9    84501001         M       12.460         24.04           83.97      475.9   \n",
      "10     845636         M       16.020         23.24          102.70      797.8   \n",
      "11   84610002         M       15.780         17.89          103.60      781.0   \n",
      "12     846226         M       19.170         24.80          132.40     1123.0   \n",
      "13     846381         M       15.850         23.95          103.70      782.7   \n",
      "14   84667401         M       13.730         22.61           93.60      578.3   \n",
      "15   84799002         M       14.540         27.54           96.73      658.8   \n",
      "16     848406         M       14.680         20.13           94.74      684.5   \n",
      "17   84862001         M       16.130         20.68          108.10      798.8   \n",
      "18     849014         M       19.810         22.15          130.00     1260.0   \n",
      "19    8510426         B       13.540         14.36           87.46      566.3   \n",
      "20    8510653         B       13.080         15.71           85.63      520.0   \n",
      "21    8510824         B        9.504         12.44           60.34      273.9   \n",
      "22    8511133         M       15.340         14.26          102.50      704.4   \n",
      "23     851509         M       21.160         23.04          137.20     1404.0   \n",
      "24     852552         M       16.650         21.38          110.00      904.6   \n",
      "25     852631         M       17.140         16.40          116.00      912.7   \n",
      "26     852763         M       14.580         21.53           97.41      644.8   \n",
      "27     852781         M       18.610         20.25          122.10     1094.0   \n",
      "28     852973         M       15.300         25.27          102.40      732.4   \n",
      "29     853201         M       17.570         15.05          115.00      955.1   \n",
      "..        ...       ...          ...           ...             ...        ...   \n",
      "539    921362         B        7.691         25.44           48.34      170.4   \n",
      "540    921385         B       11.540         14.44           74.65      402.9   \n",
      "541    921386         B       14.470         24.99           95.81      656.4   \n",
      "542    921644         B       14.740         25.42           94.70      668.6   \n",
      "543    922296         B       13.210         28.06           84.88      538.4   \n",
      "544    922297         B       13.870         20.70           89.77      584.8   \n",
      "545    922576         B       13.620         23.23           87.19      573.2   \n",
      "546    922577         B       10.320         16.35           65.31      324.9   \n",
      "547    922840         B       10.260         16.58           65.85      320.8   \n",
      "548    923169         B        9.683         19.34           61.05      285.7   \n",
      "549    923465         B       10.820         24.21           68.89      361.6   \n",
      "550    923748         B       10.860         21.48           68.51      360.5   \n",
      "551    923780         B       11.130         22.44           71.49      378.4   \n",
      "552    924084         B       12.770         29.43           81.35      507.9   \n",
      "553    924342         B        9.333         21.94           59.01      264.0   \n",
      "554    924632         B       12.880         28.92           82.50      514.3   \n",
      "555    924934         B       10.290         27.61           65.67      321.4   \n",
      "556    924964         B       10.160         19.59           64.73      311.7   \n",
      "557    925236         B        9.423         27.88           59.26      271.3   \n",
      "558    925277         B       14.590         22.68           96.39      657.1   \n",
      "559    925291         B       11.510         23.93           74.52      403.5   \n",
      "560    925292         B       14.050         27.15           91.38      600.4   \n",
      "561    925311         B       11.200         29.37           70.67      386.0   \n",
      "562    925622         M       15.220         30.62          103.40      716.9   \n",
      "563    926125         M       20.920         25.09          143.00     1347.0   \n",
      "564    926424         M       21.560         22.39          142.00     1479.0   \n",
      "565    926682         M       20.130         28.25          131.20     1261.0   \n",
      "566    926954         M       16.600         28.08          108.30      858.1   \n",
      "567    927241         M       20.600         29.33          140.10     1265.0   \n",
      "568     92751         B        7.760         24.54           47.92      181.0   \n",
      "\n",
      "     smoothness_mean  compactness_mean  concavity_mean  concave points_mean  \\\n",
      "0            0.11840           0.27760        0.300100             0.147100   \n",
      "1            0.08474           0.07864        0.086900             0.070170   \n",
      "2            0.10960           0.15990        0.197400             0.127900   \n",
      "3            0.14250           0.28390        0.241400             0.105200   \n",
      "4            0.10030           0.13280        0.198000             0.104300   \n",
      "5            0.12780           0.17000        0.157800             0.080890   \n",
      "6            0.09463           0.10900        0.112700             0.074000   \n",
      "7            0.11890           0.16450        0.093660             0.059850   \n",
      "8            0.12730           0.19320        0.185900             0.093530   \n",
      "9            0.11860           0.23960        0.227300             0.085430   \n",
      "10           0.08206           0.06669        0.032990             0.033230   \n",
      "11           0.09710           0.12920        0.099540             0.066060   \n",
      "12           0.09740           0.24580        0.206500             0.111800   \n",
      "13           0.08401           0.10020        0.099380             0.053640   \n",
      "14           0.11310           0.22930        0.212800             0.080250   \n",
      "15           0.11390           0.15950        0.163900             0.073640   \n",
      "16           0.09867           0.07200        0.073950             0.052590   \n",
      "17           0.11700           0.20220        0.172200             0.102800   \n",
      "18           0.09831           0.10270        0.147900             0.094980   \n",
      "19           0.09779           0.08129        0.066640             0.047810   \n",
      "20           0.10750           0.12700        0.045680             0.031100   \n",
      "21           0.10240           0.06492        0.029560             0.020760   \n",
      "22           0.10730           0.21350        0.207700             0.097560   \n",
      "23           0.09428           0.10220        0.109700             0.086320   \n",
      "24           0.11210           0.14570        0.152500             0.091700   \n",
      "25           0.11860           0.22760        0.222900             0.140100   \n",
      "26           0.10540           0.18680        0.142500             0.087830   \n",
      "27           0.09440           0.10660        0.149000             0.077310   \n",
      "28           0.10820           0.16970        0.168300             0.087510   \n",
      "29           0.09847           0.11570        0.098750             0.079530   \n",
      "..               ...               ...             ...                  ...   \n",
      "539          0.08668           0.11990        0.092520             0.013640   \n",
      "540          0.09984           0.11200        0.067370             0.025940   \n",
      "541          0.08837           0.12300        0.100900             0.038900   \n",
      "542          0.08275           0.07214        0.041050             0.030270   \n",
      "543          0.08671           0.06877        0.029870             0.032750   \n",
      "544          0.09578           0.10180        0.036880             0.023690   \n",
      "545          0.09246           0.06747        0.029740             0.024430   \n",
      "546          0.09434           0.04994        0.010120             0.005495   \n",
      "547          0.08877           0.08066        0.043580             0.024380   \n",
      "548          0.08491           0.05030        0.023370             0.009615   \n",
      "549          0.08192           0.06602        0.015480             0.008160   \n",
      "550          0.07431           0.04227        0.000000             0.000000   \n",
      "551          0.09566           0.08194        0.048240             0.022570   \n",
      "552          0.08276           0.04234        0.019970             0.014990   \n",
      "553          0.09240           0.05605        0.039960             0.012820   \n",
      "554          0.08123           0.05824        0.061950             0.023430   \n",
      "555          0.09030           0.07658        0.059990             0.027380   \n",
      "556          0.10030           0.07504        0.005025             0.011160   \n",
      "557          0.08123           0.04971        0.000000             0.000000   \n",
      "558          0.08473           0.13300        0.102900             0.037360   \n",
      "559          0.09261           0.10210        0.111200             0.041050   \n",
      "560          0.09929           0.11260        0.044620             0.043040   \n",
      "561          0.07449           0.03558        0.000000             0.000000   \n",
      "562          0.10480           0.20870        0.255000             0.094290   \n",
      "563          0.10990           0.22360        0.317400             0.147400   \n",
      "564          0.11100           0.11590        0.243900             0.138900   \n",
      "565          0.09780           0.10340        0.144000             0.097910   \n",
      "566          0.08455           0.10230        0.092510             0.053020   \n",
      "567          0.11780           0.27700        0.351400             0.152000   \n",
      "568          0.05263           0.04362        0.000000             0.000000   \n",
      "\n",
      "        ...       texture_worst  perimeter_worst  area_worst  \\\n",
      "0       ...               17.33           184.60      2019.0   \n",
      "1       ...               23.41           158.80      1956.0   \n",
      "2       ...               25.53           152.50      1709.0   \n",
      "3       ...               26.50            98.87       567.7   \n",
      "4       ...               16.67           152.20      1575.0   \n",
      "5       ...               23.75           103.40       741.6   \n",
      "6       ...               27.66           153.20      1606.0   \n",
      "7       ...               28.14           110.60       897.0   \n",
      "8       ...               30.73           106.20       739.3   \n",
      "9       ...               40.68            97.65       711.4   \n",
      "10      ...               33.88           123.80      1150.0   \n",
      "11      ...               27.28           136.50      1299.0   \n",
      "12      ...               29.94           151.70      1332.0   \n",
      "13      ...               27.66           112.00       876.5   \n",
      "14      ...               32.01           108.80       697.7   \n",
      "15      ...               37.13           124.10       943.2   \n",
      "16      ...               30.88           123.40      1138.0   \n",
      "17      ...               31.48           136.80      1315.0   \n",
      "18      ...               30.88           186.80      2398.0   \n",
      "19      ...               19.26            99.70       711.2   \n",
      "20      ...               20.49            96.09       630.5   \n",
      "21      ...               15.66            65.13       314.9   \n",
      "22      ...               19.08           125.10       980.9   \n",
      "23      ...               35.59           188.00      2615.0   \n",
      "24      ...               31.56           177.00      2215.0   \n",
      "25      ...               21.40           152.40      1461.0   \n",
      "26      ...               33.21           122.40       896.9   \n",
      "27      ...               27.26           139.90      1403.0   \n",
      "28      ...               36.71           149.30      1269.0   \n",
      "29      ...               19.52           134.90      1227.0   \n",
      "..      ...                 ...              ...         ...   \n",
      "539     ...               31.89            54.49       223.6   \n",
      "540     ...               19.68            78.78       457.8   \n",
      "541     ...               31.73           113.50       808.9   \n",
      "542     ...               32.29           107.40       826.4   \n",
      "543     ...               37.17            92.48       629.6   \n",
      "544     ...               24.75            99.17       688.6   \n",
      "545     ...               29.09            97.58       729.8   \n",
      "546     ...               21.77            71.12       384.9   \n",
      "547     ...               22.04            71.08       357.4   \n",
      "548     ...               25.59            69.10       364.2   \n",
      "549     ...               31.45            83.90       505.6   \n",
      "550     ...               24.77            74.08       412.3   \n",
      "551     ...               28.26            77.80       436.6   \n",
      "552     ...               36.00            88.10       594.7   \n",
      "553     ...               25.05            62.86       295.8   \n",
      "554     ...               35.74            88.84       595.7   \n",
      "555     ...               34.91            69.57       357.6   \n",
      "556     ...               22.88            67.88       347.3   \n",
      "557     ...               34.24            66.50       330.6   \n",
      "558     ...               27.27           105.90       733.5   \n",
      "559     ...               37.16            82.28       474.2   \n",
      "560     ...               33.17           100.20       706.7   \n",
      "561     ...               38.30            75.19       439.6   \n",
      "562     ...               42.79           128.70       915.0   \n",
      "563     ...               29.41           179.10      1819.0   \n",
      "564     ...               26.40           166.10      2027.0   \n",
      "565     ...               38.25           155.00      1731.0   \n",
      "566     ...               34.12           126.70      1124.0   \n",
      "567     ...               39.42           184.60      1821.0   \n",
      "568     ...               30.37            59.16       268.6   \n",
      "\n",
      "     smoothness_worst  compactness_worst  concavity_worst  \\\n",
      "0             0.16220            0.66560          0.71190   \n",
      "1             0.12380            0.18660          0.24160   \n",
      "2             0.14440            0.42450          0.45040   \n",
      "3             0.20980            0.86630          0.68690   \n",
      "4             0.13740            0.20500          0.40000   \n",
      "5             0.17910            0.52490          0.53550   \n",
      "6             0.14420            0.25760          0.37840   \n",
      "7             0.16540            0.36820          0.26780   \n",
      "8             0.17030            0.54010          0.53900   \n",
      "9             0.18530            1.05800          1.10500   \n",
      "10            0.11810            0.15510          0.14590   \n",
      "11            0.13960            0.56090          0.39650   \n",
      "12            0.10370            0.39030          0.36390   \n",
      "13            0.11310            0.19240          0.23220   \n",
      "14            0.16510            0.77250          0.69430   \n",
      "15            0.16780            0.65770          0.70260   \n",
      "16            0.14640            0.18710          0.29140   \n",
      "17            0.17890            0.42330          0.47840   \n",
      "18            0.15120            0.31500          0.53720   \n",
      "19            0.14400            0.17730          0.23900   \n",
      "20            0.13120            0.27760          0.18900   \n",
      "21            0.13240            0.11480          0.08867   \n",
      "22            0.13900            0.59540          0.63050   \n",
      "23            0.14010            0.26000          0.31550   \n",
      "24            0.18050            0.35780          0.46950   \n",
      "25            0.15450            0.39490          0.38530   \n",
      "26            0.15250            0.66430          0.55390   \n",
      "27            0.13380            0.21170          0.34460   \n",
      "28            0.16410            0.61100          0.63350   \n",
      "29            0.12550            0.28120          0.24890   \n",
      "..                ...                ...              ...   \n",
      "539           0.15960            0.30640          0.33930   \n",
      "540           0.13450            0.21180          0.17970   \n",
      "541           0.13400            0.42020          0.40400   \n",
      "542           0.10600            0.13760          0.16110   \n",
      "543           0.10720            0.13810          0.10620   \n",
      "544           0.12640            0.20370          0.13770   \n",
      "545           0.12160            0.15170          0.10490   \n",
      "546           0.12850            0.08842          0.04384   \n",
      "547           0.14610            0.22460          0.17830   \n",
      "548           0.11990            0.09546          0.09350   \n",
      "549           0.12040            0.16330          0.06194   \n",
      "550           0.10010            0.07348          0.00000   \n",
      "551           0.10870            0.17820          0.15640   \n",
      "552           0.12340            0.10640          0.08653   \n",
      "553           0.11030            0.08298          0.07993   \n",
      "554           0.12270            0.16200          0.24390   \n",
      "555           0.13840            0.17100          0.20000   \n",
      "556           0.12650            0.12000          0.01005   \n",
      "557           0.10730            0.07158          0.00000   \n",
      "558           0.10260            0.31710          0.36620   \n",
      "559           0.12980            0.25170          0.36300   \n",
      "560           0.12410            0.22640          0.13260   \n",
      "561           0.09267            0.05494          0.00000   \n",
      "562           0.14170            0.79170          1.17000   \n",
      "563           0.14070            0.41860          0.65990   \n",
      "564           0.14100            0.21130          0.41070   \n",
      "565           0.11660            0.19220          0.32150   \n",
      "566           0.11390            0.30940          0.34030   \n",
      "567           0.16500            0.86810          0.93870   \n",
      "568           0.08996            0.06444          0.00000   \n",
      "\n",
      "     concave points_worst  symmetry_worst  fractal_dimension_worst  \\\n",
      "0                 0.26540          0.4601                  0.11890   \n",
      "1                 0.18600          0.2750                  0.08902   \n",
      "2                 0.24300          0.3613                  0.08758   \n",
      "3                 0.25750          0.6638                  0.17300   \n",
      "4                 0.16250          0.2364                  0.07678   \n",
      "5                 0.17410          0.3985                  0.12440   \n",
      "6                 0.19320          0.3063                  0.08368   \n",
      "7                 0.15560          0.3196                  0.11510   \n",
      "8                 0.20600          0.4378                  0.10720   \n",
      "9                 0.22100          0.4366                  0.20750   \n",
      "10                0.09975          0.2948                  0.08452   \n",
      "11                0.18100          0.3792                  0.10480   \n",
      "12                0.17670          0.3176                  0.10230   \n",
      "13                0.11190          0.2809                  0.06287   \n",
      "14                0.22080          0.3596                  0.14310   \n",
      "15                0.17120          0.4218                  0.13410   \n",
      "16                0.16090          0.3029                  0.08216   \n",
      "17                0.20730          0.3706                  0.11420   \n",
      "18                0.23880          0.2768                  0.07615   \n",
      "19                0.12880          0.2977                  0.07259   \n",
      "20                0.07283          0.3184                  0.08183   \n",
      "21                0.06227          0.2450                  0.07773   \n",
      "22                0.23930          0.4667                  0.09946   \n",
      "23                0.20090          0.2822                  0.07526   \n",
      "24                0.20950          0.3613                  0.09564   \n",
      "25                0.25500          0.4066                  0.10590   \n",
      "26                0.27010          0.4264                  0.12750   \n",
      "27                0.14900          0.2341                  0.07421   \n",
      "28                0.20240          0.4027                  0.09876   \n",
      "29                0.14560          0.2756                  0.07919   \n",
      "..                    ...             ...                      ...   \n",
      "539               0.05000          0.2790                  0.10660   \n",
      "540               0.06918          0.2329                  0.08134   \n",
      "541               0.12050          0.3187                  0.10230   \n",
      "542               0.10950          0.2722                  0.06956   \n",
      "543               0.07958          0.2473                  0.06443   \n",
      "544               0.06845          0.2249                  0.08492   \n",
      "545               0.07174          0.2642                  0.06953   \n",
      "546               0.02381          0.2681                  0.07399   \n",
      "547               0.08333          0.2691                  0.09479   \n",
      "548               0.03846          0.2552                  0.07920   \n",
      "549               0.03264          0.3059                  0.07626   \n",
      "550               0.00000          0.2458                  0.06592   \n",
      "551               0.06413          0.3169                  0.08032   \n",
      "552               0.06498          0.2407                  0.06484   \n",
      "553               0.02564          0.2435                  0.07393   \n",
      "554               0.06493          0.2372                  0.07242   \n",
      "555               0.09127          0.2226                  0.08283   \n",
      "556               0.02232          0.2262                  0.06742   \n",
      "557               0.00000          0.2475                  0.06969   \n",
      "558               0.11050          0.2258                  0.08004   \n",
      "559               0.09653          0.2112                  0.08732   \n",
      "560               0.10480          0.2250                  0.08321   \n",
      "561               0.00000          0.1566                  0.05905   \n",
      "562               0.23560          0.4089                  0.14090   \n",
      "563               0.25420          0.2929                  0.09873   \n",
      "564               0.22160          0.2060                  0.07115   \n",
      "565               0.16280          0.2572                  0.06637   \n",
      "566               0.14180          0.2218                  0.07820   \n",
      "567               0.26500          0.4087                  0.12400   \n",
      "568               0.00000          0.2871                  0.07039   \n",
      "\n",
      "     Unnamed: 32  \n",
      "0            NaN  \n",
      "1            NaN  \n",
      "2            NaN  \n",
      "3            NaN  \n",
      "4            NaN  \n",
      "5            NaN  \n",
      "6            NaN  \n",
      "7            NaN  \n",
      "8            NaN  \n",
      "9            NaN  \n",
      "10           NaN  \n",
      "11           NaN  \n",
      "12           NaN  \n",
      "13           NaN  \n",
      "14           NaN  \n",
      "15           NaN  \n",
      "16           NaN  \n",
      "17           NaN  \n",
      "18           NaN  \n",
      "19           NaN  \n",
      "20           NaN  \n",
      "21           NaN  \n",
      "22           NaN  \n",
      "23           NaN  \n",
      "24           NaN  \n",
      "25           NaN  \n",
      "26           NaN  \n",
      "27           NaN  \n",
      "28           NaN  \n",
      "29           NaN  \n",
      "..           ...  \n",
      "539          NaN  \n",
      "540          NaN  \n",
      "541          NaN  \n",
      "542          NaN  \n",
      "543          NaN  \n",
      "544          NaN  \n",
      "545          NaN  \n",
      "546          NaN  \n",
      "547          NaN  \n",
      "548          NaN  \n",
      "549          NaN  \n",
      "550          NaN  \n",
      "551          NaN  \n",
      "552          NaN  \n",
      "553          NaN  \n",
      "554          NaN  \n",
      "555          NaN  \n",
      "556          NaN  \n",
      "557          NaN  \n",
      "558          NaN  \n",
      "559          NaN  \n",
      "560          NaN  \n",
      "561          NaN  \n",
      "562          NaN  \n",
      "563          NaN  \n",
      "564          NaN  \n",
      "565          NaN  \n",
      "566          NaN  \n",
      "567          NaN  \n",
      "568          NaN  \n",
      "\n",
      "[569 rows x 33 columns]\n"
     ]
    }
   ],
   "source": [
    "print(cancer)"
   ]
  },
  {
   "cell_type": "code",
   "execution_count": 20,
   "metadata": {},
   "outputs": [
    {
     "data": {
      "text/plain": [
       "Index(['id', 'diagnosis', 'radius_mean', 'texture_mean', 'perimeter_mean',\n",
       "       'area_mean', 'smoothness_mean', 'compactness_mean', 'concavity_mean',\n",
       "       'concave points_mean', 'symmetry_mean', 'fractal_dimension_mean',\n",
       "       'radius_se', 'texture_se', 'perimeter_se', 'area_se', 'smoothness_se',\n",
       "       'compactness_se', 'concavity_se', 'concave points_se', 'symmetry_se',\n",
       "       'fractal_dimension_se', 'radius_worst', 'texture_worst',\n",
       "       'perimeter_worst', 'area_worst', 'smoothness_worst',\n",
       "       'compactness_worst', 'concavity_worst', 'concave points_worst',\n",
       "       'symmetry_worst', 'fractal_dimension_worst', 'Unnamed: 32'],\n",
       "      dtype='object')"
      ]
     },
     "execution_count": 20,
     "metadata": {},
     "output_type": "execute_result"
    }
   ],
   "source": [
    "cancer.columns"
   ]
  },
  {
   "cell_type": "code",
   "execution_count": 24,
   "metadata": {},
   "outputs": [],
   "source": [
    "# drop ID and Unnamed: 32\n",
    "Cancer = cancer.drop(['id','Unnamed: 32'], axis = 1)"
   ]
  },
  {
   "cell_type": "code",
   "execution_count": 25,
   "metadata": {},
   "outputs": [
    {
     "data": {
      "text/plain": [
       "diagnosis                  0\n",
       "radius_mean                0\n",
       "texture_mean               0\n",
       "perimeter_mean             0\n",
       "area_mean                  0\n",
       "smoothness_mean            0\n",
       "compactness_mean           0\n",
       "concavity_mean             0\n",
       "concave points_mean        0\n",
       "symmetry_mean              0\n",
       "fractal_dimension_mean     0\n",
       "radius_se                  0\n",
       "texture_se                 0\n",
       "perimeter_se               0\n",
       "area_se                    0\n",
       "smoothness_se              0\n",
       "compactness_se             0\n",
       "concavity_se               0\n",
       "concave points_se          0\n",
       "symmetry_se                0\n",
       "fractal_dimension_se       0\n",
       "radius_worst               0\n",
       "texture_worst              0\n",
       "perimeter_worst            0\n",
       "area_worst                 0\n",
       "smoothness_worst           0\n",
       "compactness_worst          0\n",
       "concavity_worst            0\n",
       "concave points_worst       0\n",
       "symmetry_worst             0\n",
       "fractal_dimension_worst    0\n",
       "dtype: int64"
      ]
     },
     "execution_count": 25,
     "metadata": {},
     "output_type": "execute_result"
    }
   ],
   "source": [
    "Cancer.isnull().sum()"
   ]
  },
  {
   "cell_type": "code",
   "execution_count": 27,
   "metadata": {},
   "outputs": [
    {
     "data": {
      "text/plain": [
       "diagnosis                  False\n",
       "radius_mean                False\n",
       "texture_mean               False\n",
       "perimeter_mean             False\n",
       "area_mean                  False\n",
       "smoothness_mean            False\n",
       "compactness_mean           False\n",
       "concavity_mean             False\n",
       "concave points_mean        False\n",
       "symmetry_mean              False\n",
       "fractal_dimension_mean     False\n",
       "radius_se                  False\n",
       "texture_se                 False\n",
       "perimeter_se               False\n",
       "area_se                    False\n",
       "smoothness_se              False\n",
       "compactness_se             False\n",
       "concavity_se               False\n",
       "concave points_se          False\n",
       "symmetry_se                False\n",
       "fractal_dimension_se       False\n",
       "radius_worst               False\n",
       "texture_worst              False\n",
       "perimeter_worst            False\n",
       "area_worst                 False\n",
       "smoothness_worst           False\n",
       "compactness_worst          False\n",
       "concavity_worst            False\n",
       "concave points_worst       False\n",
       "symmetry_worst             False\n",
       "fractal_dimension_worst    False\n",
       "dtype: bool"
      ]
     },
     "execution_count": 27,
     "metadata": {},
     "output_type": "execute_result"
    }
   ],
   "source": [
    "Cancer.isnull().any()"
   ]
  },
  {
   "cell_type": "code",
   "execution_count": 40,
   "metadata": {},
   "outputs": [],
   "source": [
    "# Training and testing data\n",
    "from sklearn.model_selection import train_test_split\n",
    "from sklearn.tree import DecisionTreeClassifier\n",
    "from sklearn import tree\n",
    "from sklearn import metrics\n",
    "from sklearn.metrics import accuracy_score"
   ]
  },
  {
   "cell_type": "code",
   "execution_count": 56,
   "metadata": {},
   "outputs": [],
   "source": [
    "# Diving data into train and test\n",
    "C_Train, C_Test = train_test_split(Cancer,test_size = 0.3)\n",
    "Train_X = C_Train.drop('diagnosis', axis = 1)\n",
    "Test_X = C_Test.drop('diagnosis', axis = 1)\n",
    "Train_Y = C_Train['diagnosis']\n",
    "Test_Y = C_Test['diagnosis']"
   ]
  },
  {
   "cell_type": "code",
   "execution_count": 57,
   "metadata": {
    "scrolled": true
   },
   "outputs": [],
   "source": [
    "# Decision tree\n",
    "DT_mod = DecisionTreeClassifier()"
   ]
  },
  {
   "cell_type": "code",
   "execution_count": 58,
   "metadata": {
    "scrolled": true
   },
   "outputs": [
    {
     "data": {
      "text/plain": [
       "DecisionTreeClassifier(class_weight=None, criterion='gini', max_depth=None,\n",
       "            max_features=None, max_leaf_nodes=None,\n",
       "            min_impurity_decrease=0.0, min_impurity_split=None,\n",
       "            min_samples_leaf=1, min_samples_split=2,\n",
       "            min_weight_fraction_leaf=0.0, presort=False, random_state=None,\n",
       "            splitter='best')"
      ]
     },
     "execution_count": 58,
     "metadata": {},
     "output_type": "execute_result"
    }
   ],
   "source": [
    "DT_mod.fit(Train_X, Train_Y)"
   ]
  },
  {
   "cell_type": "code",
   "execution_count": 59,
   "metadata": {},
   "outputs": [],
   "source": [
    "# Prediction of the model\n",
    "pred_DT = DT_mod.predict(Test_X)"
   ]
  },
  {
   "cell_type": "code",
   "execution_count": 60,
   "metadata": {},
   "outputs": [
    {
     "name": "stdout",
     "output_type": "stream",
     "text": [
      "['B' 'B' 'B' 'B' 'M' 'B' 'M' 'B' 'M' 'M' 'M' 'B' 'B' 'M' 'B' 'B' 'M' 'B'\n",
      " 'M' 'M' 'B' 'B' 'B' 'B' 'B' 'B' 'B' 'B' 'B' 'M' 'B' 'B' 'B' 'M' 'B' 'M'\n",
      " 'M' 'M' 'B' 'B' 'B' 'M' 'M' 'B' 'B' 'M' 'B' 'M' 'B' 'B' 'B' 'M' 'M' 'B'\n",
      " 'M' 'B' 'M' 'B' 'M' 'B' 'M' 'M' 'B' 'M' 'M' 'B' 'B' 'B' 'M' 'B' 'M' 'M'\n",
      " 'B' 'B' 'B' 'B' 'M' 'M' 'B' 'M' 'B' 'M' 'B' 'B' 'B' 'M' 'B' 'M' 'M' 'B'\n",
      " 'M' 'M' 'B' 'B' 'B' 'B' 'B' 'M' 'M' 'B' 'B' 'B' 'M' 'B' 'B' 'B' 'B' 'B'\n",
      " 'B' 'M' 'B' 'B' 'B' 'B' 'B' 'B' 'M' 'M' 'M' 'B' 'B' 'M' 'B' 'B' 'B' 'M'\n",
      " 'M' 'M' 'B' 'B' 'M' 'B' 'B' 'B' 'B' 'B' 'B' 'B' 'B' 'M' 'B' 'B' 'B' 'M'\n",
      " 'M' 'B' 'M' 'M' 'M' 'B' 'B' 'M' 'B' 'B' 'B' 'B' 'B' 'B' 'M' 'M' 'M' 'B'\n",
      " 'B' 'M' 'B' 'B' 'B' 'B' 'M' 'B' 'M']\n"
     ]
    }
   ],
   "source": [
    "print(pred_DT)"
   ]
  },
  {
   "cell_type": "code",
   "execution_count": 61,
   "metadata": {},
   "outputs": [
    {
     "name": "stdout",
     "output_type": "stream",
     "text": [
      "[[96  5]\n",
      " [11 59]]\n"
     ]
    }
   ],
   "source": [
    "# Building Confusion Matrix to check the performance\n",
    "Confuse_matrix = metrics.confusion_matrix(Test_Y, pred_DT)\n",
    "print(Confuse_matrix)"
   ]
  },
  {
   "cell_type": "code",
   "execution_count": 63,
   "metadata": {},
   "outputs": [
    {
     "data": {
      "text/plain": [
       "0.9064327485380117"
      ]
     },
     "execution_count": 63,
     "metadata": {},
     "output_type": "execute_result"
    }
   ],
   "source": [
    "accuracy_score(Test_Y, pred_DT)"
   ]
  }
 ],
 "metadata": {
  "kernelspec": {
   "display_name": "Python 3",
   "language": "python",
   "name": "python3"
  },
  "language_info": {
   "codemirror_mode": {
    "name": "ipython",
    "version": 3
   },
   "file_extension": ".py",
   "mimetype": "text/x-python",
   "name": "python",
   "nbconvert_exporter": "python",
   "pygments_lexer": "ipython3",
   "version": "3.7.1"
  }
 },
 "nbformat": 4,
 "nbformat_minor": 2
}
