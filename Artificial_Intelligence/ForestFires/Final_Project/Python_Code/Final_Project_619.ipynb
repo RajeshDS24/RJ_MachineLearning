{
 "cells": [
  {
   "cell_type": "code",
   "execution_count": 63,
   "metadata": {},
   "outputs": [],
   "source": [
    "# Installing  basic python packages:\n",
    "import numpy as np\n",
    "import pandas as pd\n",
    "import matplotlib.pyplot as plt\n",
    "\n",
    "from sklearn.ensemble import RandomForestRegressor\n",
    "from sklearn.preprocessing import OneHotEncoder\n",
    "from sklearn.preprocessing import LabelEncoder\n",
    "\n",
    "from sklearn.model_selection import train_test_split\n",
    "\n",
    "# For Performance Tunning the model.\n",
    "from sklearn.model_selection import GridSearchCV\n"
   ]
  },
  {
   "cell_type": "code",
   "execution_count": 64,
   "metadata": {},
   "outputs": [
    {
     "data": {
      "text/html": [
       "<div>\n",
       "<style scoped>\n",
       "    .dataframe tbody tr th:only-of-type {\n",
       "        vertical-align: middle;\n",
       "    }\n",
       "\n",
       "    .dataframe tbody tr th {\n",
       "        vertical-align: top;\n",
       "    }\n",
       "\n",
       "    .dataframe thead th {\n",
       "        text-align: right;\n",
       "    }\n",
       "</style>\n",
       "<table border=\"1\" class=\"dataframe\">\n",
       "  <thead>\n",
       "    <tr style=\"text-align: right;\">\n",
       "      <th></th>\n",
       "      <th>X</th>\n",
       "      <th>Y</th>\n",
       "      <th>month</th>\n",
       "      <th>day</th>\n",
       "      <th>FFMC</th>\n",
       "      <th>DMC</th>\n",
       "      <th>DC</th>\n",
       "      <th>ISI</th>\n",
       "      <th>temp</th>\n",
       "      <th>RH</th>\n",
       "      <th>wind</th>\n",
       "      <th>rain</th>\n",
       "      <th>area</th>\n",
       "    </tr>\n",
       "  </thead>\n",
       "  <tbody>\n",
       "    <tr>\n",
       "      <th>0</th>\n",
       "      <td>7</td>\n",
       "      <td>5</td>\n",
       "      <td>mar</td>\n",
       "      <td>fri</td>\n",
       "      <td>86.2</td>\n",
       "      <td>26.2</td>\n",
       "      <td>94.3</td>\n",
       "      <td>5.1</td>\n",
       "      <td>8.2</td>\n",
       "      <td>51</td>\n",
       "      <td>6.7</td>\n",
       "      <td>0.0</td>\n",
       "      <td>0.0</td>\n",
       "    </tr>\n",
       "    <tr>\n",
       "      <th>1</th>\n",
       "      <td>7</td>\n",
       "      <td>4</td>\n",
       "      <td>oct</td>\n",
       "      <td>tue</td>\n",
       "      <td>90.6</td>\n",
       "      <td>35.4</td>\n",
       "      <td>669.1</td>\n",
       "      <td>6.7</td>\n",
       "      <td>18.0</td>\n",
       "      <td>33</td>\n",
       "      <td>0.9</td>\n",
       "      <td>0.0</td>\n",
       "      <td>0.0</td>\n",
       "    </tr>\n",
       "    <tr>\n",
       "      <th>2</th>\n",
       "      <td>7</td>\n",
       "      <td>4</td>\n",
       "      <td>oct</td>\n",
       "      <td>sat</td>\n",
       "      <td>90.6</td>\n",
       "      <td>43.7</td>\n",
       "      <td>686.9</td>\n",
       "      <td>6.7</td>\n",
       "      <td>14.6</td>\n",
       "      <td>33</td>\n",
       "      <td>1.3</td>\n",
       "      <td>0.0</td>\n",
       "      <td>0.0</td>\n",
       "    </tr>\n",
       "    <tr>\n",
       "      <th>3</th>\n",
       "      <td>8</td>\n",
       "      <td>6</td>\n",
       "      <td>mar</td>\n",
       "      <td>fri</td>\n",
       "      <td>91.7</td>\n",
       "      <td>33.3</td>\n",
       "      <td>77.5</td>\n",
       "      <td>9.0</td>\n",
       "      <td>8.3</td>\n",
       "      <td>97</td>\n",
       "      <td>4.0</td>\n",
       "      <td>0.2</td>\n",
       "      <td>0.0</td>\n",
       "    </tr>\n",
       "    <tr>\n",
       "      <th>4</th>\n",
       "      <td>8</td>\n",
       "      <td>6</td>\n",
       "      <td>mar</td>\n",
       "      <td>sun</td>\n",
       "      <td>89.3</td>\n",
       "      <td>51.3</td>\n",
       "      <td>102.2</td>\n",
       "      <td>9.6</td>\n",
       "      <td>11.4</td>\n",
       "      <td>99</td>\n",
       "      <td>1.8</td>\n",
       "      <td>0.0</td>\n",
       "      <td>0.0</td>\n",
       "    </tr>\n",
       "  </tbody>\n",
       "</table>\n",
       "</div>"
      ],
      "text/plain": [
       "   X  Y month  day  FFMC   DMC     DC  ISI  temp  RH  wind  rain  area\n",
       "0  7  5   mar  fri  86.2  26.2   94.3  5.1   8.2  51   6.7   0.0   0.0\n",
       "1  7  4   oct  tue  90.6  35.4  669.1  6.7  18.0  33   0.9   0.0   0.0\n",
       "2  7  4   oct  sat  90.6  43.7  686.9  6.7  14.6  33   1.3   0.0   0.0\n",
       "3  8  6   mar  fri  91.7  33.3   77.5  9.0   8.3  97   4.0   0.2   0.0\n",
       "4  8  6   mar  sun  89.3  51.3  102.2  9.6  11.4  99   1.8   0.0   0.0"
      ]
     },
     "execution_count": 64,
     "metadata": {},
     "output_type": "execute_result"
    }
   ],
   "source": [
    "# import data set\n",
    "# Note: please make the dataset available in the path\n",
    "\n",
    "FF_data = pd.read_csv(\"forestfires.csv\")\n",
    "FF_data.head()"
   ]
  },
  {
   "cell_type": "code",
   "execution_count": 65,
   "metadata": {},
   "outputs": [
    {
     "data": {
      "text/plain": [
       "(517, 13)"
      ]
     },
     "execution_count": 65,
     "metadata": {},
     "output_type": "execute_result"
    }
   ],
   "source": [
    "FF_data.shape"
   ]
  },
  {
   "cell_type": "code",
   "execution_count": 66,
   "metadata": {},
   "outputs": [
    {
     "data": {
      "text/plain": [
       "X          int64\n",
       "Y          int64\n",
       "month     object\n",
       "day       object\n",
       "FFMC     float64\n",
       "DMC      float64\n",
       "DC       float64\n",
       "ISI      float64\n",
       "temp     float64\n",
       "RH         int64\n",
       "wind     float64\n",
       "rain     float64\n",
       "area     float64\n",
       "dtype: object"
      ]
     },
     "execution_count": 66,
     "metadata": {},
     "output_type": "execute_result"
    }
   ],
   "source": [
    "FF_data.dtypes"
   ]
  },
  {
   "cell_type": "code",
   "execution_count": 67,
   "metadata": {},
   "outputs": [
    {
     "data": {
      "text/html": [
       "<div>\n",
       "<style scoped>\n",
       "    .dataframe tbody tr th:only-of-type {\n",
       "        vertical-align: middle;\n",
       "    }\n",
       "\n",
       "    .dataframe tbody tr th {\n",
       "        vertical-align: top;\n",
       "    }\n",
       "\n",
       "    .dataframe thead th {\n",
       "        text-align: right;\n",
       "    }\n",
       "</style>\n",
       "<table border=\"1\" class=\"dataframe\">\n",
       "  <thead>\n",
       "    <tr style=\"text-align: right;\">\n",
       "      <th></th>\n",
       "      <th>count</th>\n",
       "      <th>mean</th>\n",
       "      <th>std</th>\n",
       "      <th>min</th>\n",
       "      <th>25%</th>\n",
       "      <th>50%</th>\n",
       "      <th>75%</th>\n",
       "      <th>max</th>\n",
       "    </tr>\n",
       "  </thead>\n",
       "  <tbody>\n",
       "    <tr>\n",
       "      <th>X</th>\n",
       "      <td>517.0</td>\n",
       "      <td>4.669246</td>\n",
       "      <td>2.313778</td>\n",
       "      <td>1.0</td>\n",
       "      <td>3.0</td>\n",
       "      <td>4.00</td>\n",
       "      <td>7.00</td>\n",
       "      <td>9.00</td>\n",
       "    </tr>\n",
       "    <tr>\n",
       "      <th>Y</th>\n",
       "      <td>517.0</td>\n",
       "      <td>4.299807</td>\n",
       "      <td>1.229900</td>\n",
       "      <td>2.0</td>\n",
       "      <td>4.0</td>\n",
       "      <td>4.00</td>\n",
       "      <td>5.00</td>\n",
       "      <td>9.00</td>\n",
       "    </tr>\n",
       "    <tr>\n",
       "      <th>FFMC</th>\n",
       "      <td>517.0</td>\n",
       "      <td>90.644681</td>\n",
       "      <td>5.520111</td>\n",
       "      <td>18.7</td>\n",
       "      <td>90.2</td>\n",
       "      <td>91.60</td>\n",
       "      <td>92.90</td>\n",
       "      <td>96.20</td>\n",
       "    </tr>\n",
       "    <tr>\n",
       "      <th>DMC</th>\n",
       "      <td>517.0</td>\n",
       "      <td>110.872340</td>\n",
       "      <td>64.046482</td>\n",
       "      <td>1.1</td>\n",
       "      <td>68.6</td>\n",
       "      <td>108.30</td>\n",
       "      <td>142.40</td>\n",
       "      <td>291.30</td>\n",
       "    </tr>\n",
       "    <tr>\n",
       "      <th>DC</th>\n",
       "      <td>517.0</td>\n",
       "      <td>547.940039</td>\n",
       "      <td>248.066192</td>\n",
       "      <td>7.9</td>\n",
       "      <td>437.7</td>\n",
       "      <td>664.20</td>\n",
       "      <td>713.90</td>\n",
       "      <td>860.60</td>\n",
       "    </tr>\n",
       "    <tr>\n",
       "      <th>ISI</th>\n",
       "      <td>517.0</td>\n",
       "      <td>9.021663</td>\n",
       "      <td>4.559477</td>\n",
       "      <td>0.0</td>\n",
       "      <td>6.5</td>\n",
       "      <td>8.40</td>\n",
       "      <td>10.80</td>\n",
       "      <td>56.10</td>\n",
       "    </tr>\n",
       "    <tr>\n",
       "      <th>temp</th>\n",
       "      <td>517.0</td>\n",
       "      <td>18.889168</td>\n",
       "      <td>5.806625</td>\n",
       "      <td>2.2</td>\n",
       "      <td>15.5</td>\n",
       "      <td>19.30</td>\n",
       "      <td>22.80</td>\n",
       "      <td>33.30</td>\n",
       "    </tr>\n",
       "    <tr>\n",
       "      <th>RH</th>\n",
       "      <td>517.0</td>\n",
       "      <td>44.288201</td>\n",
       "      <td>16.317469</td>\n",
       "      <td>15.0</td>\n",
       "      <td>33.0</td>\n",
       "      <td>42.00</td>\n",
       "      <td>53.00</td>\n",
       "      <td>100.00</td>\n",
       "    </tr>\n",
       "    <tr>\n",
       "      <th>wind</th>\n",
       "      <td>517.0</td>\n",
       "      <td>4.017602</td>\n",
       "      <td>1.791653</td>\n",
       "      <td>0.4</td>\n",
       "      <td>2.7</td>\n",
       "      <td>4.00</td>\n",
       "      <td>4.90</td>\n",
       "      <td>9.40</td>\n",
       "    </tr>\n",
       "    <tr>\n",
       "      <th>rain</th>\n",
       "      <td>517.0</td>\n",
       "      <td>0.021663</td>\n",
       "      <td>0.295959</td>\n",
       "      <td>0.0</td>\n",
       "      <td>0.0</td>\n",
       "      <td>0.00</td>\n",
       "      <td>0.00</td>\n",
       "      <td>6.40</td>\n",
       "    </tr>\n",
       "    <tr>\n",
       "      <th>area</th>\n",
       "      <td>517.0</td>\n",
       "      <td>12.847292</td>\n",
       "      <td>63.655818</td>\n",
       "      <td>0.0</td>\n",
       "      <td>0.0</td>\n",
       "      <td>0.52</td>\n",
       "      <td>6.57</td>\n",
       "      <td>1090.84</td>\n",
       "    </tr>\n",
       "  </tbody>\n",
       "</table>\n",
       "</div>"
      ],
      "text/plain": [
       "      count        mean         std   min    25%     50%     75%      max\n",
       "X     517.0    4.669246    2.313778   1.0    3.0    4.00    7.00     9.00\n",
       "Y     517.0    4.299807    1.229900   2.0    4.0    4.00    5.00     9.00\n",
       "FFMC  517.0   90.644681    5.520111  18.7   90.2   91.60   92.90    96.20\n",
       "DMC   517.0  110.872340   64.046482   1.1   68.6  108.30  142.40   291.30\n",
       "DC    517.0  547.940039  248.066192   7.9  437.7  664.20  713.90   860.60\n",
       "ISI   517.0    9.021663    4.559477   0.0    6.5    8.40   10.80    56.10\n",
       "temp  517.0   18.889168    5.806625   2.2   15.5   19.30   22.80    33.30\n",
       "RH    517.0   44.288201   16.317469  15.0   33.0   42.00   53.00   100.00\n",
       "wind  517.0    4.017602    1.791653   0.4    2.7    4.00    4.90     9.40\n",
       "rain  517.0    0.021663    0.295959   0.0    0.0    0.00    0.00     6.40\n",
       "area  517.0   12.847292   63.655818   0.0    0.0    0.52    6.57  1090.84"
      ]
     },
     "execution_count": 67,
     "metadata": {},
     "output_type": "execute_result"
    }
   ],
   "source": [
    "# Checking the data  \n",
    "FF_data.describe().T"
   ]
  },
  {
   "cell_type": "code",
   "execution_count": 68,
   "metadata": {},
   "outputs": [
    {
     "data": {
      "text/plain": [
       "False"
      ]
     },
     "execution_count": 68,
     "metadata": {},
     "output_type": "execute_result"
    }
   ],
   "source": [
    "## Checking NULL values in the data frame\n",
    "FF_data.isnull().values.any() "
   ]
  },
  {
   "cell_type": "code",
   "execution_count": 69,
   "metadata": {
    "scrolled": true
   },
   "outputs": [
    {
     "data": {
      "text/plain": [
       "X        0\n",
       "Y        0\n",
       "month    0\n",
       "day      0\n",
       "FFMC     0\n",
       "DMC      0\n",
       "DC       0\n",
       "ISI      0\n",
       "temp     0\n",
       "RH       0\n",
       "wind     0\n",
       "rain     0\n",
       "area     0\n",
       "dtype: int64"
      ]
     },
     "execution_count": 69,
     "metadata": {},
     "output_type": "execute_result"
    }
   ],
   "source": [
    "FF_data.isnull().sum()"
   ]
  },
  {
   "cell_type": "code",
   "execution_count": 70,
   "metadata": {},
   "outputs": [
    {
     "data": {
      "image/png": "[encoded data removed]",
      "text/plain": [
       "<Figure size 432x288 with 1 Axes>"
      ]
     },
     "metadata": {
      "needs_background": "light"
     },
     "output_type": "display_data"
    },
    {
     "data": {
      "image/png": "[encoded data removed]",
      "text/plain": [
       "<Figure size 432x288 with 1 Axes>"
      ]
     },
     "metadata": {
      "needs_background": "light"
     },
     "output_type": "display_data"
    },
    {
     "data": {
      "image/png": "[encoded data removed]",
      "text/plain": [
       "<Figure size 432x288 with 1 Axes>"
      ]
     },
     "metadata": {
      "needs_background": "light"
     },
     "output_type": "display_data"
    },
    {
     "data": {
      "image/png": "[encoded data removed]",
      "text/plain": [
       "<Figure size 432x288 with 1 Axes>"
      ]
     },
     "metadata": {
      "needs_background": "light"
     },
     "output_type": "display_data"
    },
    {
     "data": {
      "image/png": "[encoded data removed]",
      "text/plain": [
       "<Figure size 432x288 with 1 Axes>"
      ]
     },
     "metadata": {
      "needs_background": "light"
     },
     "output_type": "display_data"
    },
    {
     "data": {
      "image/png": "[encoded data removed]",
      "text/plain": [
       "<Figure size 432x288 with 1 Axes>"
      ]
     },
     "metadata": {
      "needs_background": "light"
     },
     "output_type": "display_data"
    },
    {
     "data": {
      "image/png": "[encoded data removed]",
      "text/plain": [
       "<Figure size 432x288 with 1 Axes>"
      ]
     },
     "metadata": {
      "needs_background": "light"
     },
     "output_type": "display_data"
    },
    {
     "data": {
      "image/png": "[encoded data removed]",
      "text/plain": [
       "<Figure size 432x288 with 1 Axes>"
      ]
     },
     "metadata": {
      "needs_background": "light"
     },
     "output_type": "display_data"
    },
    {
     "data": {
      "image/png": "[encoded data removed]",
      "text/plain": [
       "<Figure size 432x288 with 1 Axes>"
      ]
     },
     "metadata": {
      "needs_background": "light"
     },
     "output_type": "display_data"
    },
    {
     "data": {
      "image/png": "[encoded data removed]",
      "text/plain": [
       "<Figure size 432x288 with 1 Axes>"
      ]
     },
     "metadata": {
      "needs_background": "light"
     },
     "output_type": "display_data"
    }
   ],
   "source": [
    "FF_data['Area_Log']=np.log10(FF_data['area']+1)\n",
    "for i in FF_data.describe().columns[:-2]:\n",
    "    FF_data.plot.scatter(i, 'Area_Log')\n",
    "    plt.show()"
   ]
  },
  {
   "cell_type": "code",
   "execution_count": 71,
   "metadata": {},
   "outputs": [
    {
     "data": {
      "image/png": "[encoded data removed]",
      "text/plain": [
       "<Figure size 432x288 with 1 Axes>"
      ]
     },
     "metadata": {
      "needs_background": "light"
     },
     "output_type": "display_data"
    },
    {
     "data": {
      "image/png": "[encoded data removed]",
      "text/plain": [
       "<Figure size 432x288 with 1 Axes>"
      ]
     },
     "metadata": {
      "needs_background": "light"
     },
     "output_type": "display_data"
    }
   ],
   "source": [
    "# Box plots\n",
    "\n",
    "FF_data.boxplot(column='Area_Log',by='day')\n",
    "FF_data.boxplot(column='Area_Log',by='month')\n",
    "plt.show()"
   ]
  },
  {
   "cell_type": "code",
   "execution_count": 72,
   "metadata": {},
   "outputs": [
    {
     "data": {
      "text/plain": [
       "array(['apr', 'aug', 'dec', 'feb', 'jan', 'jul', 'jun', 'mar', 'may',\n",
       "       'nov', 'oct', 'sep'], dtype=object)"
      ]
     },
     "execution_count": 72,
     "metadata": {},
     "output_type": "execute_result"
    }
   ],
   "source": [
    "Labenco = LabelEncoder()\n",
    "Labenco.fit(FF_data['month'])\n",
    "Labenco.classes_"
   ]
  },
  {
   "cell_type": "code",
   "execution_count": 73,
   "metadata": {},
   "outputs": [
    {
     "data": {
      "text/html": [
       "<div>\n",
       "<style scoped>\n",
       "    .dataframe tbody tr th:only-of-type {\n",
       "        vertical-align: middle;\n",
       "    }\n",
       "\n",
       "    .dataframe tbody tr th {\n",
       "        vertical-align: top;\n",
       "    }\n",
       "\n",
       "    .dataframe thead th {\n",
       "        text-align: right;\n",
       "    }\n",
       "</style>\n",
       "<table border=\"1\" class=\"dataframe\">\n",
       "  <thead>\n",
       "    <tr style=\"text-align: right;\">\n",
       "      <th></th>\n",
       "      <th>X</th>\n",
       "      <th>Y</th>\n",
       "      <th>month</th>\n",
       "      <th>day</th>\n",
       "      <th>FFMC</th>\n",
       "      <th>DMC</th>\n",
       "      <th>DC</th>\n",
       "      <th>ISI</th>\n",
       "      <th>temp</th>\n",
       "      <th>RH</th>\n",
       "      <th>wind</th>\n",
       "      <th>rain</th>\n",
       "      <th>area</th>\n",
       "      <th>Area_Log</th>\n",
       "      <th>mon_num</th>\n",
       "    </tr>\n",
       "  </thead>\n",
       "  <tbody>\n",
       "    <tr>\n",
       "      <th>0</th>\n",
       "      <td>7</td>\n",
       "      <td>5</td>\n",
       "      <td>mar</td>\n",
       "      <td>fri</td>\n",
       "      <td>86.2</td>\n",
       "      <td>26.2</td>\n",
       "      <td>94.3</td>\n",
       "      <td>5.1</td>\n",
       "      <td>8.2</td>\n",
       "      <td>51</td>\n",
       "      <td>6.7</td>\n",
       "      <td>0.0</td>\n",
       "      <td>0.0</td>\n",
       "      <td>0.0</td>\n",
       "      <td>7</td>\n",
       "    </tr>\n",
       "    <tr>\n",
       "      <th>1</th>\n",
       "      <td>7</td>\n",
       "      <td>4</td>\n",
       "      <td>oct</td>\n",
       "      <td>tue</td>\n",
       "      <td>90.6</td>\n",
       "      <td>35.4</td>\n",
       "      <td>669.1</td>\n",
       "      <td>6.7</td>\n",
       "      <td>18.0</td>\n",
       "      <td>33</td>\n",
       "      <td>0.9</td>\n",
       "      <td>0.0</td>\n",
       "      <td>0.0</td>\n",
       "      <td>0.0</td>\n",
       "      <td>10</td>\n",
       "    </tr>\n",
       "    <tr>\n",
       "      <th>2</th>\n",
       "      <td>7</td>\n",
       "      <td>4</td>\n",
       "      <td>oct</td>\n",
       "      <td>sat</td>\n",
       "      <td>90.6</td>\n",
       "      <td>43.7</td>\n",
       "      <td>686.9</td>\n",
       "      <td>6.7</td>\n",
       "      <td>14.6</td>\n",
       "      <td>33</td>\n",
       "      <td>1.3</td>\n",
       "      <td>0.0</td>\n",
       "      <td>0.0</td>\n",
       "      <td>0.0</td>\n",
       "      <td>10</td>\n",
       "    </tr>\n",
       "    <tr>\n",
       "      <th>3</th>\n",
       "      <td>8</td>\n",
       "      <td>6</td>\n",
       "      <td>mar</td>\n",
       "      <td>fri</td>\n",
       "      <td>91.7</td>\n",
       "      <td>33.3</td>\n",
       "      <td>77.5</td>\n",
       "      <td>9.0</td>\n",
       "      <td>8.3</td>\n",
       "      <td>97</td>\n",
       "      <td>4.0</td>\n",
       "      <td>0.2</td>\n",
       "      <td>0.0</td>\n",
       "      <td>0.0</td>\n",
       "      <td>7</td>\n",
       "    </tr>\n",
       "    <tr>\n",
       "      <th>4</th>\n",
       "      <td>8</td>\n",
       "      <td>6</td>\n",
       "      <td>mar</td>\n",
       "      <td>sun</td>\n",
       "      <td>89.3</td>\n",
       "      <td>51.3</td>\n",
       "      <td>102.2</td>\n",
       "      <td>9.6</td>\n",
       "      <td>11.4</td>\n",
       "      <td>99</td>\n",
       "      <td>1.8</td>\n",
       "      <td>0.0</td>\n",
       "      <td>0.0</td>\n",
       "      <td>0.0</td>\n",
       "      <td>7</td>\n",
       "    </tr>\n",
       "  </tbody>\n",
       "</table>\n",
       "</div>"
      ],
      "text/plain": [
       "   X  Y month  day  FFMC   DMC     DC  ISI  temp  RH  wind  rain  area  \\\n",
       "0  7  5   mar  fri  86.2  26.2   94.3  5.1   8.2  51   6.7   0.0   0.0   \n",
       "1  7  4   oct  tue  90.6  35.4  669.1  6.7  18.0  33   0.9   0.0   0.0   \n",
       "2  7  4   oct  sat  90.6  43.7  686.9  6.7  14.6  33   1.3   0.0   0.0   \n",
       "3  8  6   mar  fri  91.7  33.3   77.5  9.0   8.3  97   4.0   0.2   0.0   \n",
       "4  8  6   mar  sun  89.3  51.3  102.2  9.6  11.4  99   1.8   0.0   0.0   \n",
       "\n",
       "   Area_Log  mon_num  \n",
       "0       0.0        7  \n",
       "1       0.0       10  \n",
       "2       0.0       10  \n",
       "3       0.0        7  \n",
       "4       0.0        7  "
      ]
     },
     "execution_count": 73,
     "metadata": {},
     "output_type": "execute_result"
    }
   ],
   "source": [
    "FF_data[\"mon_num\"]=Labenco.transform(FF_data[\"month\"])\n",
    "FF_data.head()"
   ]
  },
  {
   "cell_type": "code",
   "execution_count": 74,
   "metadata": {},
   "outputs": [
    {
     "data": {
      "text/plain": [
       "array(['fri', 'mon', 'sat', 'sun', 'thu', 'tue', 'wed'], dtype=object)"
      ]
     },
     "execution_count": 74,
     "metadata": {},
     "output_type": "execute_result"
    }
   ],
   "source": [
    "Labenco.fit(FF_data['day'])\n",
    "Labenco.classes_"
   ]
  },
  {
   "cell_type": "code",
   "execution_count": 75,
   "metadata": {
    "scrolled": true
   },
   "outputs": [
    {
     "data": {
      "text/html": [
       "<div>\n",
       "<style scoped>\n",
       "    .dataframe tbody tr th:only-of-type {\n",
       "        vertical-align: middle;\n",
       "    }\n",
       "\n",
       "    .dataframe tbody tr th {\n",
       "        vertical-align: top;\n",
       "    }\n",
       "\n",
       "    .dataframe thead th {\n",
       "        text-align: right;\n",
       "    }\n",
       "</style>\n",
       "<table border=\"1\" class=\"dataframe\">\n",
       "  <thead>\n",
       "    <tr style=\"text-align: right;\">\n",
       "      <th></th>\n",
       "      <th>X</th>\n",
       "      <th>Y</th>\n",
       "      <th>month</th>\n",
       "      <th>day</th>\n",
       "      <th>FFMC</th>\n",
       "      <th>DMC</th>\n",
       "      <th>DC</th>\n",
       "      <th>ISI</th>\n",
       "      <th>temp</th>\n",
       "      <th>RH</th>\n",
       "      <th>wind</th>\n",
       "      <th>rain</th>\n",
       "      <th>area</th>\n",
       "      <th>Area_Log</th>\n",
       "      <th>mon_num</th>\n",
       "      <th>day_num</th>\n",
       "    </tr>\n",
       "  </thead>\n",
       "  <tbody>\n",
       "    <tr>\n",
       "      <th>0</th>\n",
       "      <td>7</td>\n",
       "      <td>5</td>\n",
       "      <td>mar</td>\n",
       "      <td>fri</td>\n",
       "      <td>86.2</td>\n",
       "      <td>26.2</td>\n",
       "      <td>94.3</td>\n",
       "      <td>5.1</td>\n",
       "      <td>8.2</td>\n",
       "      <td>51</td>\n",
       "      <td>6.7</td>\n",
       "      <td>0.0</td>\n",
       "      <td>0.0</td>\n",
       "      <td>0.0</td>\n",
       "      <td>7</td>\n",
       "      <td>0</td>\n",
       "    </tr>\n",
       "    <tr>\n",
       "      <th>1</th>\n",
       "      <td>7</td>\n",
       "      <td>4</td>\n",
       "      <td>oct</td>\n",
       "      <td>tue</td>\n",
       "      <td>90.6</td>\n",
       "      <td>35.4</td>\n",
       "      <td>669.1</td>\n",
       "      <td>6.7</td>\n",
       "      <td>18.0</td>\n",
       "      <td>33</td>\n",
       "      <td>0.9</td>\n",
       "      <td>0.0</td>\n",
       "      <td>0.0</td>\n",
       "      <td>0.0</td>\n",
       "      <td>10</td>\n",
       "      <td>5</td>\n",
       "    </tr>\n",
       "    <tr>\n",
       "      <th>2</th>\n",
       "      <td>7</td>\n",
       "      <td>4</td>\n",
       "      <td>oct</td>\n",
       "      <td>sat</td>\n",
       "      <td>90.6</td>\n",
       "      <td>43.7</td>\n",
       "      <td>686.9</td>\n",
       "      <td>6.7</td>\n",
       "      <td>14.6</td>\n",
       "      <td>33</td>\n",
       "      <td>1.3</td>\n",
       "      <td>0.0</td>\n",
       "      <td>0.0</td>\n",
       "      <td>0.0</td>\n",
       "      <td>10</td>\n",
       "      <td>2</td>\n",
       "    </tr>\n",
       "    <tr>\n",
       "      <th>3</th>\n",
       "      <td>8</td>\n",
       "      <td>6</td>\n",
       "      <td>mar</td>\n",
       "      <td>fri</td>\n",
       "      <td>91.7</td>\n",
       "      <td>33.3</td>\n",
       "      <td>77.5</td>\n",
       "      <td>9.0</td>\n",
       "      <td>8.3</td>\n",
       "      <td>97</td>\n",
       "      <td>4.0</td>\n",
       "      <td>0.2</td>\n",
       "      <td>0.0</td>\n",
       "      <td>0.0</td>\n",
       "      <td>7</td>\n",
       "      <td>0</td>\n",
       "    </tr>\n",
       "    <tr>\n",
       "      <th>4</th>\n",
       "      <td>8</td>\n",
       "      <td>6</td>\n",
       "      <td>mar</td>\n",
       "      <td>sun</td>\n",
       "      <td>89.3</td>\n",
       "      <td>51.3</td>\n",
       "      <td>102.2</td>\n",
       "      <td>9.6</td>\n",
       "      <td>11.4</td>\n",
       "      <td>99</td>\n",
       "      <td>1.8</td>\n",
       "      <td>0.0</td>\n",
       "      <td>0.0</td>\n",
       "      <td>0.0</td>\n",
       "      <td>7</td>\n",
       "      <td>3</td>\n",
       "    </tr>\n",
       "  </tbody>\n",
       "</table>\n",
       "</div>"
      ],
      "text/plain": [
       "   X  Y month  day  FFMC   DMC     DC  ISI  temp  RH  wind  rain  area  \\\n",
       "0  7  5   mar  fri  86.2  26.2   94.3  5.1   8.2  51   6.7   0.0   0.0   \n",
       "1  7  4   oct  tue  90.6  35.4  669.1  6.7  18.0  33   0.9   0.0   0.0   \n",
       "2  7  4   oct  sat  90.6  43.7  686.9  6.7  14.6  33   1.3   0.0   0.0   \n",
       "3  8  6   mar  fri  91.7  33.3   77.5  9.0   8.3  97   4.0   0.2   0.0   \n",
       "4  8  6   mar  sun  89.3  51.3  102.2  9.6  11.4  99   1.8   0.0   0.0   \n",
       "\n",
       "   Area_Log  mon_num  day_num  \n",
       "0       0.0        7        0  \n",
       "1       0.0       10        5  \n",
       "2       0.0       10        2  \n",
       "3       0.0        7        0  \n",
       "4       0.0        7        3  "
      ]
     },
     "execution_count": 75,
     "metadata": {},
     "output_type": "execute_result"
    }
   ],
   "source": [
    "FF_data[\"day_num\"]=Labenco.transform(FF_data[\"day\"])\n",
    "FF_data.head()"
   ]
  },
  {
   "cell_type": "code",
   "execution_count": 76,
   "metadata": {
    "scrolled": true
   },
   "outputs": [
    {
     "data": {
      "text/plain": [
       "array([[<matplotlib.axes._subplots.AxesSubplot object at 0x000001C753EEF448>,\n",
       "        <matplotlib.axes._subplots.AxesSubplot object at 0x000001C750140888>,\n",
       "        <matplotlib.axes._subplots.AxesSubplot object at 0x000001C753EF4A08>,\n",
       "        <matplotlib.axes._subplots.AxesSubplot object at 0x000001C753E50888>],\n",
       "       [<matplotlib.axes._subplots.AxesSubplot object at 0x000001C753C54808>,\n",
       "        <matplotlib.axes._subplots.AxesSubplot object at 0x000001C7522D5BC8>,\n",
       "        <matplotlib.axes._subplots.AxesSubplot object at 0x000001C7516E51C8>,\n",
       "        <matplotlib.axes._subplots.AxesSubplot object at 0x000001C7524068C8>],\n",
       "       [<matplotlib.axes._subplots.AxesSubplot object at 0x000001C7518846C8>,\n",
       "        <matplotlib.axes._subplots.AxesSubplot object at 0x000001C7515FE188>,\n",
       "        <matplotlib.axes._subplots.AxesSubplot object at 0x000001C7526BDBC8>,\n",
       "        <matplotlib.axes._subplots.AxesSubplot object at 0x000001C7526C16C8>],\n",
       "       [<matplotlib.axes._subplots.AxesSubplot object at 0x000001C753D268C8>,\n",
       "        <matplotlib.axes._subplots.AxesSubplot object at 0x000001C752C1BE88>,\n",
       "        <matplotlib.axes._subplots.AxesSubplot object at 0x000001C751871E88>,\n",
       "        <matplotlib.axes._subplots.AxesSubplot object at 0x000001C753C737C8>]],\n",
       "      dtype=object)"
      ]
     },
     "execution_count": 76,
     "metadata": {},
     "output_type": "execute_result"
    },
    {
     "data": {
      "image/png": "[encoded data removed]",
      "text/plain": [
       "<Figure size 432x288 with 16 Axes>"
      ]
     },
     "metadata": {
      "needs_background": "light"
     },
     "output_type": "display_data"
    }
   ],
   "source": [
    "\n",
    "# Plot the Density plot\n",
    "FF_data.plot(kind='density', subplots=True, layout=(4,4))"
   ]
  },
  {
   "cell_type": "code",
   "execution_count": 77,
   "metadata": {},
   "outputs": [
    {
     "data": {
      "text/plain": [
       "Index(['X', 'Y', 'month', 'day', 'FFMC', 'DMC', 'DC', 'ISI', 'temp', 'RH',\n",
       "       'wind', 'rain', 'area', 'Area_Log', 'mon_num', 'day_num'],\n",
       "      dtype='object')"
      ]
     },
     "execution_count": 77,
     "metadata": {},
     "output_type": "execute_result"
    }
   ],
   "source": [
    "# check the column names\n",
    "FF_data.columns"
   ]
  },
  {
   "cell_type": "code",
   "execution_count": 78,
   "metadata": {},
   "outputs": [],
   "source": [
    "# To make the output stable across runs\n",
    "np.random.seed(42)"
   ]
  },
  {
   "cell_type": "code",
   "execution_count": 79,
   "metadata": {},
   "outputs": [],
   "source": [
    "## Drop few unwanted columns in the data set\n",
    "\n",
    "X_FF_data = FF_data.drop(['area','Area_Log','month','day'],axis=1)\n",
    "Y_FF_data = FF_data['Area_Log']\n",
    "\n",
    "X_TrainData, X_TestData, y_TrainData, y_TestData = train_test_split(X_FF_data, Y_FF_data, test_size = 0.25, random_state=12)\n",
    "\n",
    "y_TrainData = y_TrainData.values.reshape(y_TrainData.size,1)"
   ]
  },
  {
   "cell_type": "code",
   "execution_count": 80,
   "metadata": {},
   "outputs": [
    {
     "name": "stdout",
     "output_type": "stream",
     "text": [
      "Index(['X', 'Y', 'FFMC', 'DMC', 'DC', 'ISI', 'temp', 'RH', 'wind', 'rain',\n",
      "       'mon_num', 'day_num'],\n",
      "      dtype='object')\n",
      "Index(['X', 'Y', 'FFMC', 'DMC', 'DC', 'ISI', 'temp', 'RH', 'wind', 'rain',\n",
      "       'mon_num', 'day_num'],\n",
      "      dtype='object')\n",
      "[[0.        ]\n",
      " [0.73319727]\n",
      " [0.        ]\n",
      " [0.42975228]\n",
      " [0.96189547]\n",
      " [0.        ]\n",
      " [0.        ]\n",
      " [0.46982202]\n",
      " [1.13481437]\n",
      " [0.        ]\n",
      " [0.372912  ]\n",
      " [0.        ]\n",
      " [0.        ]\n",
      " [0.86687781]\n",
      " [0.7201593 ]\n",
      " [1.81358099]\n",
      " [0.        ]\n",
      " [0.77524626]\n",
      " [0.        ]\n",
      " [1.49387611]\n",
      " [0.16731733]\n",
      " [0.        ]\n",
      " [0.22530928]\n",
      " [1.02978947]\n",
      " [0.        ]\n",
      " [0.        ]\n",
      " [0.94101424]\n",
      " [0.91434316]\n",
      " [0.61172331]\n",
      " [0.92220628]\n",
      " [0.92427929]\n",
      " [0.42160393]\n",
      " [0.40823997]\n",
      " [1.01745073]\n",
      " [0.90417437]\n",
      " [0.        ]\n",
      " [0.        ]\n",
      " [1.03981055]\n",
      " [0.        ]\n",
      " [0.09342169]\n",
      " [0.23299611]\n",
      " [0.        ]\n",
      " [0.43933269]\n",
      " [0.        ]\n",
      " [0.80140371]\n",
      " [0.4345689 ]\n",
      " [0.34830486]\n",
      " [0.        ]\n",
      " [2.44642842]\n",
      " [0.        ]\n",
      " [0.50242712]\n",
      " [0.        ]\n",
      " [0.        ]\n",
      " [0.        ]\n",
      " [0.25285303]\n",
      " [0.        ]\n",
      " [0.18184359]\n",
      " [0.        ]\n",
      " [0.        ]\n",
      " [0.32221929]\n",
      " [0.62324929]\n",
      " [0.        ]\n",
      " [0.66651798]\n",
      " [0.75511227]\n",
      " [0.87909588]\n",
      " [1.8591383 ]\n",
      " [0.06818586]\n",
      " [2.87348336]\n",
      " [0.39269695]\n",
      " [0.59439255]\n",
      " [0.        ]\n",
      " [1.06929801]\n",
      " [0.        ]\n",
      " [0.        ]\n",
      " [0.24797327]\n",
      " [0.        ]\n",
      " [0.        ]\n",
      " [1.04218159]\n",
      " [0.44090908]\n",
      " [0.        ]\n",
      " [0.94448267]\n",
      " [0.        ]\n",
      " [0.        ]\n",
      " [0.66558099]\n",
      " [0.        ]\n",
      " [1.14767632]\n",
      " [0.41995575]\n",
      " [0.49554434]\n",
      " [0.74896286]\n",
      " [0.        ]\n",
      " [0.12385164]\n",
      " [0.        ]\n",
      " [0.        ]\n",
      " [0.        ]\n",
      " [0.        ]\n",
      " [0.        ]\n",
      " [0.        ]\n",
      " [0.        ]\n",
      " [0.        ]\n",
      " [1.08493357]\n",
      " [2.30522235]\n",
      " [0.        ]\n",
      " [0.15533604]\n",
      " [0.        ]\n",
      " [1.85588243]\n",
      " [0.        ]\n",
      " [0.        ]\n",
      " [0.        ]\n",
      " [1.46523409]\n",
      " [1.32283927]\n",
      " [0.        ]\n",
      " [0.15533604]\n",
      " [1.57806588]\n",
      " [0.        ]\n",
      " [0.20682588]\n",
      " [0.        ]\n",
      " [0.        ]\n",
      " [0.462398  ]\n",
      " [0.57403127]\n",
      " [0.84323278]\n",
      " [0.        ]\n",
      " [0.        ]\n",
      " [0.        ]\n",
      " [0.        ]\n",
      " [0.        ]\n",
      " [0.        ]\n",
      " [1.64216763]\n",
      " [0.        ]\n",
      " [0.        ]\n",
      " [1.05461305]\n",
      " [0.        ]\n",
      " [0.23552845]\n",
      " [0.        ]\n",
      " [0.18184359]\n",
      " [0.        ]\n",
      " [0.        ]\n",
      " [0.52504481]\n",
      " [0.47712125]\n",
      " [0.        ]\n",
      " [0.50105926]\n",
      " [1.75617952]\n",
      " [0.        ]\n",
      " [1.41111442]\n",
      " [0.        ]\n",
      " [0.        ]\n",
      " [0.35410844]\n",
      " [1.45255306]\n",
      " [0.67302091]\n",
      " [2.27128387]\n",
      " [1.54851226]\n",
      " [0.        ]\n",
      " [1.08134731]\n",
      " [1.23044892]\n",
      " [0.        ]\n",
      " [0.        ]\n",
      " [0.        ]\n",
      " [0.98587536]\n",
      " [0.        ]\n",
      " [0.        ]\n",
      " [0.        ]\n",
      " [0.        ]\n",
      " [0.        ]\n",
      " [0.        ]\n",
      " [0.        ]\n",
      " [0.        ]\n",
      " [1.58782317]\n",
      " [0.        ]\n",
      " [1.04649516]\n",
      " [0.79098848]\n",
      " [0.        ]\n",
      " [0.4785665 ]\n",
      " [1.38756778]\n",
      " [2.0186589 ]\n",
      " [0.65321251]\n",
      " [0.        ]\n",
      " [0.96567197]\n",
      " [0.56110138]\n",
      " [0.        ]\n",
      " [0.        ]\n",
      " [0.90525605]\n",
      " [0.69372695]\n",
      " [0.        ]\n",
      " [0.        ]\n",
      " [3.038159  ]\n",
      " [0.87098881]\n",
      " [0.        ]\n",
      " [0.        ]\n",
      " [0.        ]\n",
      " [1.56679091]\n",
      " [1.49582175]\n",
      " [0.2787536 ]\n",
      " [1.60584354]\n",
      " [1.08707121]\n",
      " [0.57634135]\n",
      " [0.        ]\n",
      " [1.23879856]\n",
      " [0.        ]\n",
      " [0.63346846]\n",
      " [1.01157044]\n",
      " [0.56702637]\n",
      " [0.        ]\n",
      " [2.02800158]\n",
      " [0.29225607]\n",
      " [0.        ]\n",
      " [1.40807029]\n",
      " [0.85125835]\n",
      " [0.87737135]\n",
      " [0.        ]\n",
      " [0.2787536 ]\n",
      " [0.        ]\n",
      " [1.27531135]\n",
      " [0.        ]\n",
      " [0.5728716 ]\n",
      " [0.        ]\n",
      " [0.        ]\n",
      " [1.70406468]\n",
      " [0.99913054]\n",
      " [0.        ]\n",
      " [0.        ]\n",
      " [0.32014629]\n",
      " [0.        ]\n",
      " [0.35983548]\n",
      " [0.76937733]\n",
      " [0.46834733]\n",
      " [0.        ]\n",
      " [0.        ]\n",
      " [0.        ]\n",
      " [0.87966921]\n",
      " [1.51481329]\n",
      " [1.04178732]\n",
      " [1.28555731]\n",
      " [0.41995575]\n",
      " [1.58001211]\n",
      " [0.        ]\n",
      " [0.89431606]\n",
      " [0.98721923]\n",
      " [0.        ]\n",
      " [0.        ]\n",
      " [0.        ]\n",
      " [1.48401496]\n",
      " [1.51666756]\n",
      " [0.80550086]\n",
      " [2.29552312]\n",
      " [0.        ]\n",
      " [0.74973632]\n",
      " [1.40208935]\n",
      " [0.84757266]\n",
      " [0.        ]\n",
      " [0.        ]\n",
      " [0.8344207 ]\n",
      " [0.49692965]\n",
      " [0.        ]\n",
      " [0.        ]\n",
      " [0.39093511]\n",
      " [0.        ]\n",
      " [1.43136376]\n",
      " [0.        ]\n",
      " [0.13353891]\n",
      " [0.        ]\n",
      " [0.        ]\n",
      " [0.        ]\n",
      " [0.        ]\n",
      " [0.46982202]\n",
      " [1.07664044]\n",
      " [0.        ]\n",
      " [0.        ]\n",
      " [0.        ]\n",
      " [0.        ]\n",
      " [0.40823997]\n",
      " [1.79330135]\n",
      " [0.        ]\n",
      " [0.        ]\n",
      " [0.        ]\n",
      " [0.39093511]\n",
      " [0.        ]\n",
      " [0.        ]\n",
      " [0.        ]\n",
      " [0.90091307]\n",
      " [0.        ]\n",
      " [1.47217115]\n",
      " [0.        ]\n",
      " [0.31597035]\n",
      " [0.49692965]\n",
      " [0.        ]\n",
      " [0.95520654]\n",
      " [0.63848926]\n",
      " [0.67302091]\n",
      " [0.        ]\n",
      " [0.83250891]\n",
      " [0.        ]\n",
      " [0.        ]\n",
      " [0.        ]\n",
      " [0.        ]\n",
      " [0.62117628]\n",
      " [0.        ]\n",
      " [1.08600371]\n",
      " [0.        ]\n",
      " [0.        ]\n",
      " [0.        ]\n",
      " [0.79448805]\n",
      " [1.08134731]\n",
      " [0.        ]\n",
      " [0.        ]\n",
      " [0.        ]\n",
      " [2.33017018]\n",
      " [1.43344979]\n",
      " [0.89376176]\n",
      " [0.86805636]\n",
      " [2.2445987 ]\n",
      " [1.14798532]\n",
      " [0.        ]\n",
      " [0.        ]\n",
      " [0.        ]\n",
      " [0.41664051]\n",
      " [0.        ]\n",
      " [0.50650503]\n",
      " [0.        ]\n",
      " [1.08778142]\n",
      " [0.55266822]\n",
      " [0.        ]\n",
      " [0.74272513]\n",
      " [0.        ]\n",
      " [0.        ]\n",
      " [0.63548375]\n",
      " [0.80888587]\n",
      " [0.73399929]\n",
      " [0.        ]\n",
      " [0.24551267]\n",
      " [1.16731733]\n",
      " [0.        ]\n",
      " [0.        ]\n",
      " [0.        ]\n",
      " [0.        ]\n",
      " [0.99343623]\n",
      " [0.        ]\n",
      " [1.69504366]\n",
      " [0.0374265 ]\n",
      " [0.        ]\n",
      " [0.        ]\n",
      " [1.43822581]\n",
      " [0.91907809]\n",
      " [0.        ]\n",
      " [0.        ]\n",
      " [0.43933269]\n",
      " [0.        ]\n",
      " [0.        ]\n",
      " [0.60959441]\n",
      " [0.        ]\n",
      " [0.        ]\n",
      " [0.        ]\n",
      " [0.        ]\n",
      " [0.88138466]\n",
      " [1.30599588]\n",
      " [0.        ]\n",
      " [0.        ]\n",
      " [0.29003461]\n",
      " [0.48144263]\n",
      " [0.        ]\n",
      " [0.        ]\n",
      " [0.42160393]\n",
      " [0.        ]\n",
      " [0.60745502]\n",
      " [0.        ]\n",
      " [0.        ]\n",
      " [0.95424251]\n",
      " [0.        ]\n",
      " [0.        ]\n",
      " [0.73239376]\n",
      " [1.17580163]\n",
      " [0.        ]\n",
      " [0.        ]\n",
      " [1.11991541]\n",
      " [0.        ]\n",
      " [0.        ]\n",
      " [0.46834733]\n",
      " [0.53655844]\n",
      " [1.85321133]\n",
      " [0.1903317 ]\n",
      " [0.        ]\n",
      " [0.18752072]\n",
      " [0.        ]\n",
      " [1.36229394]\n",
      " [0.        ]\n",
      " [0.37657696]\n",
      " [0.        ]\n",
      " [0.40140054]\n",
      " [1.03981055]]\n",
      "285    0.000000\n",
      "206    1.216166\n",
      "401    0.774517\n",
      "435    0.000000\n",
      "67     0.000000\n",
      "         ...   \n",
      "199    1.090611\n",
      "359    0.959995\n",
      "367    0.000000\n",
      "267    0.000000\n",
      "275    0.804821\n",
      "Name: Area_Log, Length: 130, dtype: float64\n"
     ]
    }
   ],
   "source": [
    "# check the columns names -- just cross verifying the columns.\n",
    "print(X_TrainData.columns)\n",
    "print(X_TestData.columns)\n",
    "print(y_TrainData)\n",
    "print(y_TestData)"
   ]
  },
  {
   "cell_type": "code",
   "execution_count": 96,
   "metadata": {},
   "outputs": [
    {
     "name": "stdout",
     "output_type": "stream",
     "text": [
      "Random Forest Regressor\n"
     ]
    },
    {
     "name": "stderr",
     "output_type": "stream",
     "text": [
      "C:\\Users\\datas\\anaconda3\\lib\\site-packages\\ipykernel_launcher.py:11: DataConversionWarning: A column-vector y was passed when a 1d array was expected. Please change the shape of y to (n_samples,), for example using ravel().\n",
      "  # This is added back by InteractiveShellApp.init_path()\n"
     ]
    },
    {
     "data": {
      "text/plain": [
       "RandomForestRegressor()"
      ]
     },
     "execution_count": 96,
     "metadata": {},
     "output_type": "execute_result"
    }
   ],
   "source": [
    "## implimenting the Random Forest Regressor\n",
    "print('Random Forest Regressor')\n",
    "\n",
    "## set time to compare the performance\n",
    "import time\n",
    "t0 = time.time()\n",
    "\n",
    "\n",
    "RF_Model = RandomForestRegressor()\n",
    "\n",
    "RF_Model.fit(X_TrainData,y_TrainData)"
   ]
  },
  {
   "cell_type": "code",
   "execution_count": 97,
   "metadata": {},
   "outputs": [
    {
     "name": "stdout",
     "output_type": "stream",
     "text": [
      "Run time for simple model 4.004 s\n"
     ]
    }
   ],
   "source": [
    "# Import the required packages\n",
    "from sklearn.metrics import explained_variance_score\n",
    "from sklearn.metrics import mean_absolute_error\n",
    "\n",
    "## Predict the X test data\n",
    "RF_pred_model = RF_Model.predict(X_TestData)\n",
    "\n",
    "score = explained_variance_score(y_TestData, RF_pred_model)\n",
    "\n",
    "Mean_Absolute_Error = mean_absolute_error(RF_pred_model, y_TestData)\n",
    "\n",
    "\n",
    "# Model run Time \n",
    "run_time_sim = time.time() - t0\n",
    "\n",
    "# Print the time taken to run simple model\n",
    "print('Run time for simple model %.3f s' % run_time_sim)"
   ]
  },
  {
   "cell_type": "code",
   "execution_count": 83,
   "metadata": {},
   "outputs": [
    {
     "name": "stdout",
     "output_type": "stream",
     "text": [
      "Score: -0.08835735799377131\n",
      "Mean Absolute Error: 0.5438626330092395\n"
     ]
    }
   ],
   "source": [
    "## Print the result\n",
    "print(\"Score:\", score)\n",
    "print(\"Mean Absolute Error:\", Mean_Absolute_Error)"
   ]
  },
  {
   "cell_type": "code",
   "execution_count": 84,
   "metadata": {},
   "outputs": [
    {
     "name": "stdout",
     "output_type": "stream",
     "text": [
      "Root Mean Square Error: 0.7374704285659457\n"
     ]
    }
   ],
   "source": [
    "## Calculating RMSE \n",
    "from math import sqrt\n",
    "RMSE_RF = sqrt(Mean_Absolute_Error)\n",
    "\n",
    "\n",
    "# Print the results\n",
    "print(\"Root Mean Square Error:\", RMSE_RF)\n",
    "\n",
    "# RMSE values tells the performance of the model, smaller the RMSE value better the results."
   ]
  },
  {
   "cell_type": "code",
   "execution_count": 85,
   "metadata": {},
   "outputs": [],
   "source": [
    "## Now let us performe the Model tunning using GridSearchCV\n",
    "# To check the performace of the model let me set the time\n",
    "\n",
    "t0 = time.time()"
   ]
  },
  {
   "cell_type": "code",
   "execution_count": 86,
   "metadata": {},
   "outputs": [
    {
     "data": {
      "text/plain": [
       "GridSearchCV(cv=10, estimator=RandomForestRegressor(),\n",
       "             param_grid={'max_depth': [5, 10, 15, 20, 25, 30, 35, 40, 45, 50],\n",
       "                         'max_leaf_nodes': [2, 5, 10],\n",
       "                         'min_samples_leaf': [2, 5, 10],\n",
       "                         'min_samples_split': [2, 5, 10]})"
      ]
     },
     "execution_count": 86,
     "metadata": {},
     "output_type": "execute_result"
    }
   ],
   "source": [
    "# Defining the Parameters grid for Random Forest, for num of node, depth.\n",
    "\n",
    "Par_Grid = {'max_depth': [5,10,15,20,25,30,35,40,45,50], \n",
    "            'max_leaf_nodes': [2,5,10], \n",
    "            'min_samples_leaf': [2,5,10],\n",
    "             'min_samples_split':[2,5,10]}\n",
    "\n",
    "\n",
    "Model_RFR = GridSearchCV(RandomForestRegressor(), \n",
    "                         Par_Grid, \n",
    "                         refit=True, \n",
    "                         verbose=0, \n",
    "                         cv=10)\n",
    "\n",
    "Model_RFR.fit(X_TrainData,y_TrainData.ravel())"
   ]
  },
  {
   "cell_type": "code",
   "execution_count": 87,
   "metadata": {},
   "outputs": [],
   "source": [
    "# Model run Time \n",
    "run_time_tune = time.time() - t0"
   ]
  },
  {
   "cell_type": "code",
   "execution_count": 88,
   "metadata": {},
   "outputs": [
    {
     "name": "stdout",
     "output_type": "stream",
     "text": [
      "Run time for tuned model 653.086 s\n"
     ]
    }
   ],
   "source": [
    "# Print the time taken to run the tuned model.\n",
    "print('Run time for tuned model %.3f s' % run_time_tune)"
   ]
  },
  {
   "cell_type": "code",
   "execution_count": 98,
   "metadata": {
    "scrolled": true
   },
   "outputs": [
    {
     "name": "stdout",
     "output_type": "stream",
     "text": [
      "{'max_depth': 20, 'max_leaf_nodes': 2, 'min_samples_leaf': 5, 'min_samples_split': 5}\n"
     ]
    }
   ],
   "source": [
    "print(Model_RFR.best_params_)"
   ]
  },
  {
   "cell_type": "code",
   "execution_count": 99,
   "metadata": {},
   "outputs": [
    {
     "name": "stderr",
     "output_type": "stream",
     "text": [
      "C:\\Users\\datas\\anaconda3\\lib\\site-packages\\ipykernel_launcher.py:6: DataConversionWarning: A column-vector y was passed when a 1d array was expected. Please change the shape of y to (n_samples,), for example using ravel().\n",
      "  \n"
     ]
    },
    {
     "data": {
      "text/plain": [
       "RandomForestRegressor(max_depth=20, max_leaf_nodes=2, min_samples_leaf=5,\n",
       "                      min_samples_split=5)"
      ]
     },
     "execution_count": 99,
     "metadata": {},
     "output_type": "execute_result"
    }
   ],
   "source": [
    "## Build the model using the above parameters\n",
    "\n",
    "RF_Model_tuned = RandomForestRegressor(max_depth = 20, max_leaf_nodes = 2,\n",
    "                                min_samples_leaf = 5, min_samples_split = 5)\n",
    "\n",
    "RF_Model_tuned.fit(X_TrainData,y_TrainData)\n"
   ]
  },
  {
   "cell_type": "code",
   "execution_count": 100,
   "metadata": {},
   "outputs": [
    {
     "data": {
      "text/plain": [
       "array([0.44471108, 0.44860683, 0.46626549, 0.42513765, 0.44899086,\n",
       "       0.42864332, 0.4440173 , 0.47694781, 0.53936967, 0.4818209 ,\n",
       "       0.48431266, 0.43594703, 0.4546642 , 0.48868753, 0.45768303,\n",
       "       0.52337736, 0.43227356, 0.47434955, 0.42521208, 0.50571031,\n",
       "       0.53292115, 0.45148866, 0.49644231, 0.44339441, 0.46457691,\n",
       "       0.45011778, 0.44088974, 0.50971661, 0.42623774, 0.45768303,\n",
       "       0.47045702, 0.45757507, 0.41929603, 0.41827533, 0.41353925,\n",
       "       0.41149339, 0.559118  , 0.44094487, 0.51585441, 0.52198148,\n",
       "       0.51855406, 0.47032547, 0.46656764, 0.50764537, 0.4515777 ,\n",
       "       0.50746753, 0.44343454, 0.42185257, 0.4677704 , 0.4315586 ,\n",
       "       0.46153083, 0.46829326, 0.45320488, 0.53718538, 0.47181133,\n",
       "       0.41107383, 0.49929284, 0.53275781, 0.46213556, 0.47041853,\n",
       "       0.45436337, 0.42297276, 0.46621785, 0.42166024, 0.51697852,\n",
       "       0.45880692, 0.41768559, 0.42359698, 0.47913622, 0.45809705,\n",
       "       0.46255145, 0.45564394, 0.44778995, 0.43160508, 0.42541181,\n",
       "       0.46555345, 0.48687322, 0.42038189, 0.431207  , 0.53435007,\n",
       "       0.53367735, 0.45955434, 0.50053766, 0.41498595, 0.5989393 ,\n",
       "       0.41646977, 0.46781282, 0.42723267, 0.47992036, 0.46559789,\n",
       "       0.42333115, 0.43351018, 0.47013517, 0.41655446, 0.43566897,\n",
       "       0.46224784, 0.51297469, 0.50051298, 0.4662474 , 0.57054268,\n",
       "       0.43399845, 0.45880692, 0.46457691, 0.48308174, 0.41646977,\n",
       "       0.42968501, 0.46227008, 0.46654158, 0.47668571, 0.4336435 ,\n",
       "       0.41655446, 0.47309692, 0.4547862 , 0.41854518, 0.42541181,\n",
       "       0.53962443, 0.43527538, 0.46941808, 0.46193074, 0.48785621,\n",
       "       0.44387383, 0.41153532, 0.4574744 , 0.43002412, 0.40899842,\n",
       "       0.44607417, 0.49367103, 0.50418732, 0.44023103, 0.53936967])"
      ]
     },
     "execution_count": 100,
     "metadata": {},
     "output_type": "execute_result"
    }
   ],
   "source": [
    "RF_Tuned_Pred = RF_Model_tuned.predict(X_TestData)\n",
    "RF_Tuned_Pred"
   ]
  },
  {
   "cell_type": "code",
   "execution_count": 101,
   "metadata": {},
   "outputs": [
    {
     "name": "stdout",
     "output_type": "stream",
     "text": [
      "Mean Absolute Error after tunning: 0.5257555259624443\n"
     ]
    }
   ],
   "source": [
    "# Calculating the Mean Absolute error after tuning\n",
    "\n",
    "MAS_tuned = mean_absolute_error(RF_Tuned_Pred, y_TestData)\n",
    "print(\"Mean Absolute Error after tunning:\", MAS_tuned)"
   ]
  },
  {
   "cell_type": "code",
   "execution_count": 102,
   "metadata": {},
   "outputs": [
    {
     "name": "stdout",
     "output_type": "stream",
     "text": [
      "Random Forest Model - RMSE values:  0.6262425411358233\n"
     ]
    }
   ],
   "source": [
    "# Calculating the Root Mean Square Error for the tuned model\n",
    "\n",
    "RFR_Model_RMSE = np.sqrt(np.mean((y_TestData-RF_Tuned_Pred)**2))\n",
    "print(\"Random Forest Model - RMSE values: \",RFR_Model_RMSE)"
   ]
  },
  {
   "cell_type": "code",
   "execution_count": null,
   "metadata": {},
   "outputs": [],
   "source": []
  }
 ],
 "metadata": {
  "kernelspec": {
   "display_name": "Python 3",
   "language": "python",
   "name": "python3"
  },
  "language_info": {
   "codemirror_mode": {
    "name": "ipython",
    "version": 3
   },
   "file_extension": ".py",
   "mimetype": "text/x-python",
   "name": "python",
   "nbconvert_exporter": "python",
   "pygments_lexer": "ipython3",
   "version": "3.7.6"
  }
 },
 "nbformat": 4,
 "nbformat_minor": 2
}
