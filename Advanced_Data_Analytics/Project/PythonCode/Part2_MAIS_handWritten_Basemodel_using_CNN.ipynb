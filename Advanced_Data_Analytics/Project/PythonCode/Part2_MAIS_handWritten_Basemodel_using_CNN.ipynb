{
 "cells": [
  {
   "cell_type": "code",
   "execution_count": 11,
   "metadata": {},
   "outputs": [],
   "source": [
    "import time\n",
    "\n",
    "## Start time \n",
    "t0 = time.time()\n",
    "\n",
    "import tensorflow as tf\n",
    "(Train_x, Train_y), (Test_x, Test_y) = tf.keras.datasets.mnist.load_data()\n"
   ]
  },
  {
   "cell_type": "code",
   "execution_count": 12,
   "metadata": {
    "scrolled": true
   },
   "outputs": [
    {
     "name": "stdout",
     "output_type": "stream",
     "text": [
      "6\n"
     ]
    },
    {
     "data": {
      "text/plain": [
       "<matplotlib.image.AxesImage at 0x1db4a620608>"
      ]
     },
     "execution_count": 12,
     "metadata": {},
     "output_type": "execute_result"
    },
    {
     "data": {
      "image/png": "[encoded data removed]",
      "text/plain": [
       "<Figure size 432x288 with 1 Axes>"
      ]
     },
     "metadata": {
      "needs_background": "light"
     },
     "output_type": "display_data"
    }
   ],
   "source": [
    "\n",
    "import matplotlib.pyplot as plt\n",
    "\n",
    "image_index = 7744 # You may select anything up to 60,000\n",
    "print(Train_y[image_index]) # The label is 8\n",
    "plt.imshow(Train_x[image_index], cmap='Greys')\n",
    "\n"
   ]
  },
  {
   "cell_type": "code",
   "execution_count": 13,
   "metadata": {
    "scrolled": true
   },
   "outputs": [
    {
     "data": {
      "text/plain": [
       "(60000, 28, 28)"
      ]
     },
     "execution_count": 13,
     "metadata": {},
     "output_type": "execute_result"
    }
   ],
   "source": [
    "Train_x.shape\n"
   ]
  },
  {
   "cell_type": "code",
   "execution_count": 14,
   "metadata": {},
   "outputs": [],
   "source": [
    "# Reshaping the array to 4-dims so that it can work with the Keras API\n",
    "Train_x = Train_x.reshape(Train_x.shape[0], 28, 28, 1)\n",
    "Test_x = Test_x.reshape(Test_x.shape[0], 28, 28, 1)\n",
    "input_shape = (28, 28, 1)\n"
   ]
  },
  {
   "cell_type": "code",
   "execution_count": 15,
   "metadata": {},
   "outputs": [],
   "source": [
    "# Making sure that the values are float so that we can get decimal points after division\n",
    "Train_x = Train_x.astype('float32')\n",
    "Test_x = Test_x.astype('float32')\n"
   ]
  },
  {
   "cell_type": "code",
   "execution_count": 16,
   "metadata": {},
   "outputs": [
    {
     "name": "stdout",
     "output_type": "stream",
     "text": [
      "Train_x shape: (60000, 28, 28, 1)\n",
      "Number of images in Train_x 60000\n",
      "Number of images in Test_x 10000\n"
     ]
    }
   ],
   "source": [
    "# Normalizing the RGB codes by dividing it to the max RGB value.\n",
    "Train_x /= 255\n",
    "Test_x /= 255\n",
    "print('Train_x shape:', Train_x.shape)\n",
    "print('Number of images in Train_x', Train_x.shape[0])\n",
    "print('Number of images in Test_x', Test_x.shape[0])\n",
    "\n"
   ]
  },
  {
   "cell_type": "code",
   "execution_count": 17,
   "metadata": {},
   "outputs": [],
   "source": [
    "\n",
    "# Importing the required Keras modules containing model and layers\n",
    "from keras.models import Sequential\n",
    "from keras.layers import Dense, Conv2D, Dropout, Flatten, MaxPooling2D\n"
   ]
  },
  {
   "cell_type": "code",
   "execution_count": 27,
   "metadata": {},
   "outputs": [],
   "source": [
    "# Creating a Sequential Model and adding the layers\n",
    "model = Sequential()\n",
    "model.add(Conv2D(28, kernel_size=(3,3), input_shape=input_shape))\n",
    "model.add(MaxPooling2D(pool_size=(2, 2)))\n",
    "model.add(Flatten()) # Flattening the 2D arrays for fully connected layers\n",
    "model.add(Dropout(0.2))\n",
    "model.add(Dense(125, activation=tf.nn.relu))\n",
    "model.add(Dense(10, activation='softmax'))\n",
    "\n"
   ]
  },
  {
   "cell_type": "code",
   "execution_count": 28,
   "metadata": {
    "scrolled": true
   },
   "outputs": [
    {
     "name": "stdout",
     "output_type": "stream",
     "text": [
      "Epoch 1/10\n",
      "60000/60000 [==============================] - 140s 2ms/step - loss: 0.1835 - accuracy: 0.9448\n",
      "Epoch 2/10\n",
      "60000/60000 [==============================] - 188s 3ms/step - loss: 0.0695 - accuracy: 0.9786\n",
      "Epoch 3/10\n",
      "60000/60000 [==============================] - 186s 3ms/step - loss: 0.0453 - accuracy: 0.9855\n",
      "Epoch 4/10\n",
      "60000/60000 [==============================] - 202s 3ms/step - loss: 0.0344 - accuracy: 0.9887\n",
      "Epoch 5/10\n",
      "60000/60000 [==============================] - 212s 4ms/step - loss: 0.0239 - accuracy: 0.9922\n",
      "Epoch 6/10\n",
      "60000/60000 [==============================] - 197s 3ms/step - loss: 0.0199 - accuracy: 0.9935\n",
      "Epoch 7/10\n",
      "60000/60000 [==============================] - 190s 3ms/step - loss: 0.0182 - accuracy: 0.9937\n",
      "Epoch 8/10\n",
      "60000/60000 [==============================] - 183s 3ms/step - loss: 0.0116 - accuracy: 0.9962\n",
      "Epoch 9/10\n",
      "60000/60000 [==============================] - 177s 3ms/step - loss: 0.0124 - accuracy: 0.9960\n",
      "Epoch 10/10\n",
      "60000/60000 [==============================] - 174s 3ms/step - loss: 0.0124 - accuracy: 0.9957\n"
     ]
    },
    {
     "data": {
      "text/plain": [
       "<keras.callbacks.callbacks.History at 0x1db4adc0e48>"
      ]
     },
     "execution_count": 28,
     "metadata": {},
     "output_type": "execute_result"
    }
   ],
   "source": [
    "model.compile(optimizer='adam', \n",
    "              loss='sparse_categorical_crossentropy', \n",
    "              metrics=['accuracy'])\n",
    "model.fit(x=Train_x,y=Train_y, epochs=10 )\n"
   ]
  },
  {
   "cell_type": "code",
   "execution_count": 29,
   "metadata": {
    "scrolled": true
   },
   "outputs": [
    {
     "name": "stdout",
     "output_type": "stream",
     "text": [
      "10000/10000 [==============================] - 9s 924us/step\n"
     ]
    }
   ],
   "source": [
    "_,acc = model.evaluate(Test_x, Test_y)"
   ]
  },
  {
   "cell_type": "code",
   "execution_count": 30,
   "metadata": {},
   "outputs": [
    {
     "data": {
      "text/plain": [
       "98.46000075340271"
      ]
     },
     "execution_count": 30,
     "metadata": {},
     "output_type": "execute_result"
    }
   ],
   "source": [
    "acc*100"
   ]
  },
  {
   "cell_type": "code",
   "execution_count": 31,
   "metadata": {},
   "outputs": [
    {
     "name": "stdout",
     "output_type": "stream",
     "text": [
      "Run in 3597.095 s\n"
     ]
    }
   ],
   "source": [
    "#display run time\n",
    "run_time = time.time() - t0\n",
    "print('Run in %.3f s' % run_time)"
   ]
  },
  {
   "cell_type": "code",
   "execution_count": null,
   "metadata": {},
   "outputs": [],
   "source": []
  },
  {
   "cell_type": "code",
   "execution_count": null,
   "metadata": {},
   "outputs": [],
   "source": []
  }
 ],
 "metadata": {
  "kernelspec": {
   "display_name": "Python 3",
   "language": "python",
   "name": "python3"
  },
  "language_info": {
   "codemirror_mode": {
    "name": "ipython",
    "version": 3
   },
   "file_extension": ".py",
   "mimetype": "text/x-python",
   "name": "python",
   "nbconvert_exporter": "python",
   "pygments_lexer": "ipython3",
   "version": "3.7.7"
  }
 },
 "nbformat": 4,
 "nbformat_minor": 4
}
